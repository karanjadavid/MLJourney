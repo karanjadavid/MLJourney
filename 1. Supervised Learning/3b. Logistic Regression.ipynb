{
 "cells": [
  {
   "cell_type": "markdown",
   "metadata": {},
   "source": [
    "# Logistic Regression"
   ]
  },
  {
   "cell_type": "markdown",
   "metadata": {},
   "source": [
    "Despite the name Logistic Regression, it is used for classification. It calculates the probability p that an observation belongs to a binary class.\n",
    "\n",
    "A logistic regression outputs probabilities. eg \n",
    "\n",
    "$p$ > 0.5 = data is labelled as 1\n",
    "\n",
    "$p$ < 0.5 = data is labelled as 0\n",
    "\n",
    "Note that a logistic regression produces a linear decision boundary."
   ]
  },
  {
   "cell_type": "code",
   "execution_count": 1,
   "metadata": {},
   "outputs": [],
   "source": [
    "import pandas as pd\n",
    "import matplotlib.pyplot as plt\n",
    "from sklearn.linear_model import LogisticRegression\n",
    "from sklearn.model_selection import train_test_split\n",
    "from sklearn.metrics import roc_curve, roc_auc_score, confusion_matrix, classification_report"
   ]
  },
  {
   "cell_type": "code",
   "execution_count": 2,
   "metadata": {},
   "outputs": [
    {
     "name": "stdout",
     "output_type": "stream",
     "text": [
      "(768, 9)\n"
     ]
    },
    {
     "data": {
      "text/html": [
       "<div>\n",
       "<style scoped>\n",
       "    .dataframe tbody tr th:only-of-type {\n",
       "        vertical-align: middle;\n",
       "    }\n",
       "\n",
       "    .dataframe tbody tr th {\n",
       "        vertical-align: top;\n",
       "    }\n",
       "\n",
       "    .dataframe thead th {\n",
       "        text-align: right;\n",
       "    }\n",
       "</style>\n",
       "<table border=\"1\" class=\"dataframe\">\n",
       "  <thead>\n",
       "    <tr style=\"text-align: right;\">\n",
       "      <th></th>\n",
       "      <th>pregnancies</th>\n",
       "      <th>glucose</th>\n",
       "      <th>diastolic</th>\n",
       "      <th>triceps</th>\n",
       "      <th>insulin</th>\n",
       "      <th>bmi</th>\n",
       "      <th>dpf</th>\n",
       "      <th>age</th>\n",
       "      <th>diabetes</th>\n",
       "    </tr>\n",
       "  </thead>\n",
       "  <tbody>\n",
       "    <tr>\n",
       "      <th>0</th>\n",
       "      <td>6</td>\n",
       "      <td>148</td>\n",
       "      <td>72</td>\n",
       "      <td>35</td>\n",
       "      <td>0</td>\n",
       "      <td>33.6</td>\n",
       "      <td>0.627</td>\n",
       "      <td>50</td>\n",
       "      <td>1</td>\n",
       "    </tr>\n",
       "    <tr>\n",
       "      <th>1</th>\n",
       "      <td>1</td>\n",
       "      <td>85</td>\n",
       "      <td>66</td>\n",
       "      <td>29</td>\n",
       "      <td>0</td>\n",
       "      <td>26.6</td>\n",
       "      <td>0.351</td>\n",
       "      <td>31</td>\n",
       "      <td>0</td>\n",
       "    </tr>\n",
       "    <tr>\n",
       "      <th>2</th>\n",
       "      <td>8</td>\n",
       "      <td>183</td>\n",
       "      <td>64</td>\n",
       "      <td>0</td>\n",
       "      <td>0</td>\n",
       "      <td>23.3</td>\n",
       "      <td>0.672</td>\n",
       "      <td>32</td>\n",
       "      <td>1</td>\n",
       "    </tr>\n",
       "    <tr>\n",
       "      <th>3</th>\n",
       "      <td>1</td>\n",
       "      <td>89</td>\n",
       "      <td>66</td>\n",
       "      <td>23</td>\n",
       "      <td>94</td>\n",
       "      <td>28.1</td>\n",
       "      <td>0.167</td>\n",
       "      <td>21</td>\n",
       "      <td>0</td>\n",
       "    </tr>\n",
       "    <tr>\n",
       "      <th>4</th>\n",
       "      <td>0</td>\n",
       "      <td>137</td>\n",
       "      <td>40</td>\n",
       "      <td>35</td>\n",
       "      <td>168</td>\n",
       "      <td>43.1</td>\n",
       "      <td>2.288</td>\n",
       "      <td>33</td>\n",
       "      <td>1</td>\n",
       "    </tr>\n",
       "  </tbody>\n",
       "</table>\n",
       "</div>"
      ],
      "text/plain": [
       "   pregnancies  glucose  diastolic  triceps  insulin   bmi    dpf  age  \\\n",
       "0            6      148         72       35        0  33.6  0.627   50   \n",
       "1            1       85         66       29        0  26.6  0.351   31   \n",
       "2            8      183         64        0        0  23.3  0.672   32   \n",
       "3            1       89         66       23       94  28.1  0.167   21   \n",
       "4            0      137         40       35      168  43.1  2.288   33   \n",
       "\n",
       "   diabetes  \n",
       "0         1  \n",
       "1         0  \n",
       "2         1  \n",
       "3         0  \n",
       "4         1  "
      ]
     },
     "execution_count": 2,
     "metadata": {},
     "output_type": "execute_result"
    }
   ],
   "source": [
    "diabetes_df = pd.read_csv('Data/diabetes_clean.csv')\n",
    "print(diabetes_df.shape)\n",
    "diabetes_df.head()"
   ]
  },
  {
   "cell_type": "code",
   "execution_count": 3,
   "metadata": {},
   "outputs": [],
   "source": [
    "X = diabetes_df[['bmi', 'age']].values\n",
    "y = diabetes_df['diabetes'].values\n",
    "\n",
    "X_train, X_test, y_train, y_test = train_test_split(X, y, test_size = 0.3, random_state=42)\n",
    "\n",
    "logreg = LogisticRegression()\n",
    "logreg.fit(X_train, y_train)\n",
    "y_pred = logreg.predict(X_test)\n",
    "\n",
    "# predicting probabilities. Reurn the second col representing positive class\n",
    "y_pred_probs = logreg.predict_proba(X_test)[:,1]"
   ]
  },
  {
   "cell_type": "code",
   "execution_count": 4,
   "metadata": {},
   "outputs": [
    {
     "data": {
      "text/plain": [
       "array([0.5070309 , 0.2621656 , 0.16851245, 0.17314983, 0.48962511,\n",
       "       0.75732791, 0.06118489, 0.5155887 , 0.3488152 , 0.77754421,\n",
       "       0.29148707, 0.73553166, 0.24463817, 0.49557303, 0.14015022,\n",
       "       0.28708569, 0.38634521, 0.18340327, 0.26625394, 0.48185518,\n",
       "       0.42999262, 0.26867141, 0.60834906, 0.21061803, 0.5042924 ,\n",
       "       0.5214042 , 0.12810736, 0.07650244, 0.55045697, 0.33844965,\n",
       "       0.76837356, 0.87166378, 0.42210972, 0.28703422, 0.83940948,\n",
       "       0.37270675, 0.76754441, 0.3942258 , 0.5633834 , 0.52759004,\n",
       "       0.17656511, 0.56901213, 0.77366522, 0.35926787, 0.0798041 ,\n",
       "       0.24892124, 0.7551926 , 0.38637503, 0.42407778, 0.91035094,\n",
       "       0.09152363, 0.54384401, 0.81479319, 0.15451958, 0.06958439,\n",
       "       0.16687806, 0.6660114 , 0.00625412, 0.37032493, 0.44713573,\n",
       "       0.48978224, 0.36222928, 0.3429759 , 0.34342946, 0.34661564,\n",
       "       0.48757898, 0.15151695, 0.79914773, 0.06452179, 0.53323536,\n",
       "       0.51278923, 0.26407026, 0.44095058, 0.33884396, 0.13196746,\n",
       "       0.86779783, 0.3483583 , 0.21991265, 0.17667484, 0.42493801,\n",
       "       0.31334145, 0.22825269, 0.2618738 , 0.45327496, 0.26657345,\n",
       "       0.47575973, 0.8117331 , 0.30130709, 0.23619989, 0.24052005,\n",
       "       0.14434419, 0.5417494 , 0.00625412, 0.3282646 , 0.49610746,\n",
       "       0.50177372, 0.41341215, 0.32361655, 0.23852451, 0.43865421,\n",
       "       0.57218936, 0.28961765, 0.74040076, 0.42777122, 0.31347676,\n",
       "       0.41940901, 0.11471456, 0.33608525, 0.29658338, 0.56115129,\n",
       "       0.13741126, 0.07985953, 0.00700635, 0.60840898, 0.27787298,\n",
       "       0.2643881 , 0.33372904, 0.26642595, 0.12563844, 0.34904375,\n",
       "       0.08778337, 0.43632954, 0.20666819, 0.11704951, 0.11129441,\n",
       "       0.73989284, 0.00984489, 0.59994789, 0.87583006, 0.27987382,\n",
       "       0.13862484, 0.65386039, 0.09841487, 0.33577666, 0.38110432,\n",
       "       0.24669165, 0.14015022, 0.73814369, 0.68878769, 0.06250721,\n",
       "       0.11014146, 0.09939122, 0.14998559, 0.38655394, 0.29903214,\n",
       "       0.57252794, 0.23619989, 0.07656466, 0.58929435, 0.48965654,\n",
       "       0.24264249, 0.7593816 , 0.18851146, 0.4871077 , 0.00590868,\n",
       "       0.4411986 , 0.14434419, 0.47485023, 0.83167635, 0.10904785,\n",
       "       0.22421909, 0.32801508, 0.29190279, 0.05036198, 0.30880757,\n",
       "       0.53899717, 0.14864197, 0.18680307, 0.30120121, 0.34892946,\n",
       "       0.28912631, 0.27779728, 0.34110473, 0.81719338, 0.51304057,\n",
       "       0.19386572, 0.33608525, 0.43568014, 0.36447265, 0.29406794,\n",
       "       0.37200139, 0.49321175, 0.62469061, 0.70403853, 0.60055139,\n",
       "       0.16851245, 0.16373343, 0.37822794, 0.43527823, 0.37000242,\n",
       "       0.21628346, 0.13869994, 0.68164459, 0.27107787, 0.56105839,\n",
       "       0.19034809, 0.00590868, 0.11706251, 0.33115822, 0.34124607,\n",
       "       0.29398963, 0.26879497, 0.67391779, 0.15151695, 0.59761806,\n",
       "       0.19937483, 0.27557959, 0.34644477, 0.58364505, 0.3106928 ,\n",
       "       0.25114061, 0.36756929, 0.15603904, 0.14995353, 0.68640738,\n",
       "       0.06739151, 0.72744367, 0.27997521, 0.26194673, 0.45293217,\n",
       "       0.24264249, 0.28687983, 0.11238261, 0.20673005, 0.13455626,\n",
       "       0.60573574, 0.22419721, 0.29900578, 0.29908486, 0.33591691,\n",
       "       0.44449119])"
      ]
     },
     "execution_count": 4,
     "metadata": {},
     "output_type": "execute_result"
    }
   ],
   "source": [
    "y_pred_probs"
   ]
  },
  {
   "cell_type": "markdown",
   "metadata": {},
   "source": [
    "By default, the threshold is 0.5 in logistic regression. The threshold can also apply to other models such as the KNN."
   ]
  },
  {
   "cell_type": "markdown",
   "metadata": {},
   "source": [
    "## ROC Curve"
   ]
  },
  {
   "cell_type": "markdown",
   "metadata": {},
   "source": [
    "When the threshold equals zero, the model predicts one for all observations, meaning it will correctly predict all positive values, and incorrectly predict all negative values. If the threshold equals one, the model predicts zero for all data, which means that both true and false positive rates are zero. If we vary the threshold, we get a series of different false positive and true positive rates.\n",
    "\n",
    "A line plot of the thresholds helps to visualize the trend. To plot the ROC curve, we import roc_curve from sklearn-dot-metrics. We then call the function roc_curve; we pass the test labels as the first argument, and the predicted probabilities as the second. We unpack the results into three variables: false positive rate, FPR; true positive rate, TPR; and the thresholds. We can then plot a dotted line from zero to one, along with the FPR and TPR;\n",
    "\n",
    "How do we quantify the model's performance based on this plot? If we have a model with one for true positive rate and zero for false positive rate, this would be the perfect model. Therefore, we calculate the area under the ROC curve, a metric known as AUC. Scores range from zero to one, with one being ideal. "
   ]
  },
  {
   "cell_type": "code",
   "execution_count": 5,
   "metadata": {},
   "outputs": [
    {
     "name": "stderr",
     "output_type": "stream",
     "text": [
      "c:\\Users\\Dave\\anaconda3\\envs\\myenv\\lib\\site-packages\\sklearn\\linear_model\\_logistic.py:940: ConvergenceWarning: lbfgs failed to converge (status=1):\n",
      "STOP: TOTAL NO. of ITERATIONS REACHED LIMIT.\n",
      "\n",
      "Increase the number of iterations (max_iter) or scale the data as shown in:\n",
      "    https://scikit-learn.org/stable/modules/preprocessing.html\n",
      "Please also refer to the documentation for alternative solver options:\n",
      "    https://scikit-learn.org/stable/modules/linear_model.html#logistic-regression\n",
      "  extra_warning_msg=_LOGISTIC_SOLVER_CONVERGENCE_MSG)\n"
     ]
    },
    {
     "data": {
      "image/png": "[encoded data removed]",
      "text/plain": [
       "<Figure size 640x480 with 1 Axes>"
      ]
     },
     "metadata": {},
     "output_type": "display_data"
    }
   ],
   "source": [
    "X = diabetes_df.drop('diabetes', axis=1).values\n",
    "y = diabetes_df['diabetes'].values\n",
    "\n",
    "X_train, X_test, y_train, y_test = train_test_split(X, y, test_size = 0.3, random_state=42)\n",
    "\n",
    "logreg = LogisticRegression()\n",
    "logreg.fit(X_train, y_train)\n",
    "y_pred = logreg.predict(X_test)\n",
    "\n",
    "y_pred_probs = logreg.predict_proba(X_test)[:,1]\n",
    "\n",
    "fpr,tpr, thresholds = roc_curve(y_test, y_pred_probs)\n",
    "plt.plot([0,1],[0,1], 'k--')\n",
    "plt.plot(fpr, tpr)\n",
    "plt.xlabel('False Positive Rate')\n",
    "plt.ylabel('True Positive Rate')\n",
    "plt.title('Logistic Regression ROC Curve')\n",
    "plt.show()"
   ]
  },
  {
   "cell_type": "markdown",
   "metadata": {},
   "source": [
    "We can calculate AUC in scikit-learn by importing roc_auc_score from sklearn-dot-metrics. We call roc_auc_score, passing our test labels and our predicted probabilities, calculated by using the model's predict_proba method on X_test. "
   ]
  },
  {
   "cell_type": "code",
   "execution_count": 6,
   "metadata": {},
   "outputs": [
    {
     "name": "stdout",
     "output_type": "stream",
     "text": [
      "0.8002483443708608\n"
     ]
    }
   ],
   "source": [
    "print(roc_auc_score(y_test, y_pred_probs))"
   ]
  },
  {
   "cell_type": "code",
   "execution_count": 7,
   "metadata": {},
   "outputs": [
    {
     "name": "stdout",
     "output_type": "stream",
     "text": [
      "roc_auc_score\n",
      "0.8002483443708608\n",
      "\n",
      "confusion_matrix\n",
      "[[121  30]\n",
      " [ 30  50]]\n",
      "\n",
      "classification_report\n",
      "              precision    recall  f1-score   support\n",
      "\n",
      "           0       0.80      0.80      0.80       151\n",
      "           1       0.62      0.62      0.62        80\n",
      "\n",
      "    accuracy                           0.74       231\n",
      "   macro avg       0.71      0.71      0.71       231\n",
      "weighted avg       0.74      0.74      0.74       231\n",
      "\n"
     ]
    }
   ],
   "source": [
    "# Calculate roc_auc_score\n",
    "print('roc_auc_score')\n",
    "print(roc_auc_score(y_test, y_pred_probs))\n",
    "print()\n",
    "\n",
    "# Calculate the confusion matrix\n",
    "print('confusion_matrix')\n",
    "print(confusion_matrix(y_test, y_pred))\n",
    "print()\n",
    "\n",
    "# Calculate the classification report\n",
    "print('classification_report')\n",
    "print(classification_report(y_test, y_pred))"
   ]
  },
  {
   "cell_type": "markdown",
   "metadata": {},
   "source": [
    "Noticed that logistic regression performs better than the KNN model across all the metrics calculated? A ROC AUC score of 0.8002 means this model is 60% better than a chance model at correctly predicting labels! scikit-learn makes it easy to produce several classification metrics with only a few lines of code."
   ]
  }
 ],
 "metadata": {
  "kernelspec": {
   "display_name": "Python 3",
   "language": "python",
   "name": "python3"
  },
  "language_info": {
   "codemirror_mode": {
    "name": "ipython",
    "version": 3
   },
   "file_extension": ".py",
   "mimetype": "text/x-python",
   "name": "python",
   "nbconvert_exporter": "python",
   "pygments_lexer": "ipython3",
   "version": "3.7.12"
  }
 },
 "nbformat": 4,
 "nbformat_minor": 2
}
